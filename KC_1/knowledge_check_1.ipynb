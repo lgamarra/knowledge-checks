{
 "cells": [
  {
   "cell_type": "code",
   "execution_count": 1,
   "id": "8a53874c",
   "metadata": {},
   "outputs": [
    {
     "name": "stdout",
     "output_type": "stream",
     "text": [
      "hello world\n"
     ]
    }
   ],
   "source": [
    "print('hello world') "
   ]
  },
  {
   "cell_type": "code",
   "execution_count": 8,
   "id": "1f85265a",
   "metadata": {},
   "outputs": [
    {
     "name": "stdout",
     "output_type": "stream",
     "text": [
      "Lima\n"
     ]
    }
   ],
   "source": [
    "my_dictionary = {\n",
    "    'country' : 'Peru',\n",
    "    'city' : 'Lima'\n",
    "    }\n",
    "print(my_dictionary['city'])"
   ]
  },
  {
   "cell_type": "code",
   "execution_count": 11,
   "id": "1d438e8e",
   "metadata": {},
   "outputs": [
    {
     "name": "stdout",
     "output_type": "stream",
     "text": [
      "36\n"
     ]
    }
   ],
   "source": [
    "my_list = ['fruit', 36, 5.36, 'orange']\n",
    "print(my_list[1])\n"
   ]
  },
  {
   "cell_type": "code",
   "execution_count": 13,
   "id": "b21bfdc3",
   "metadata": {},
   "outputs": [
    {
     "name": "stdout",
     "output_type": "stream",
     "text": [
      "laptop\n"
     ]
    }
   ],
   "source": [
    "my_tuple = ('ice', 'keyboard', 'headphones', 'laptop')\n",
    "print(my_tuple [3])"
   ]
  },
  {
   "cell_type": "code",
   "execution_count": null,
   "id": "ad5dcb67",
   "metadata": {},
   "outputs": [],
   "source": []
  }
 ],
 "metadata": {
  "kernelspec": {
   "display_name": "Python 3 (ipykernel)",
   "language": "python",
   "name": "python3"
  },
  "language_info": {
   "codemirror_mode": {
    "name": "ipython",
    "version": 3
   },
   "file_extension": ".py",
   "mimetype": "text/x-python",
   "name": "python",
   "nbconvert_exporter": "python",
   "pygments_lexer": "ipython3",
   "version": "3.9.13"
  }
 },
 "nbformat": 4,
 "nbformat_minor": 5
}
